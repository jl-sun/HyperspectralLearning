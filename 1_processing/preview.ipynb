{
 "cells": [
  {
   "cell_type": "code",
   "execution_count": 3,
   "metadata": {},
   "outputs": [
    {
     "name": "stdout",
     "output_type": "stream",
     "text": [
      "dict_keys(['__header__', '__version__', '__globals__', 'indian_pines_corrected'])\n",
      "dict_keys(['__header__', '__version__', '__globals__', 'indian_pines_gt'])\n",
      "(145, 145, 200)\n",
      "dict_keys(['__header__', '__version__', '__globals__', 'pavia'])\n",
      "dict_keys(['__header__', '__version__', '__globals__', 'pavia_gt'])\n",
      "(1096, 715, 102)\n",
      "dict_keys(['__header__', '__version__', '__globals__', 'paviaU'])\n",
      "dict_keys(['__header__', '__version__', '__globals__', 'paviaU_gt'])\n",
      "(610, 340, 103)\n",
      "dict_keys(['__header__', '__version__', '__globals__', 'salinas_corrected'])\n",
      "dict_keys(['__header__', '__version__', '__globals__', 'salinas_gt'])\n",
      "(512, 217, 204)\n",
      "dict_keys(['__header__', '__version__', '__globals__', 'salinasA_corrected'])\n",
      "dict_keys(['__header__', '__version__', '__globals__', 'salinasA_gt'])\n",
      "(83, 86, 204)\n",
      "dict_keys(['__header__', '__version__', '__globals__', 'map', 'data'])\n",
      "(100, 100, 205)\n"
     ]
    },
    {
     "data": {
      "text/plain": [
       "<Figure size 432x288 with 0 Axes>"
      ]
     },
     "metadata": {},
     "output_type": "display_data"
    },
    {
     "data": {
      "text/plain": [
       "<Figure size 432x288 with 0 Axes>"
      ]
     },
     "metadata": {},
     "output_type": "display_data"
    }
   ],
   "source": [
    "from dataset import SpectralDataset, DS_CONF\n",
    "import matplotlib.cm as colormap\n",
    "import matplotlib.pyplot as plt\n",
    "import scipy.io as sio\n",
    "import numpy as np\n",
    "import spectral\n",
    "import os\n",
    "\n",
    "COLOR_MAP = np.array(\n",
    "    [[255, 255, 255],\n",
    "     [184, 40, 99],\n",
    "     [74, 77, 145],\n",
    "     [35, 102, 193],\n",
    "     [238, 110, 105],\n",
    "     [117, 249, 76],\n",
    "     [114, 251, 253],\n",
    "     [126, 196, 59],\n",
    "     [234, 65, 247],\n",
    "     [141, 79, 77],\n",
    "     [183, 40, 99],\n",
    "     [0, 39, 245],\n",
    "     [90, 196, 111]])\n",
    "\n",
    "BINARY_MAP = np.array(\n",
    "    [[0, 0, 0],\n",
    "     [255, 255, 255]])\n",
    "\n",
    "def generate_preview(data):\n",
    "    si = data.image\n",
    "    print(si.shape)\n",
    "    n_bands = si.shape[2]\n",
    "    PREVIEW_DIR = f\"preview/{data.name}/\"\n",
    "    if not os.path.exists(PREVIEW_DIR):\n",
    "        os.mkdir(PREVIEW_DIR)\n",
    "    if not os.path.exists('{}{}.png'.format(PREVIEW_DIR, n_bands - 1)):\n",
    "        for i in range(0, n_bands):\n",
    "            img = si[:, :, i]\n",
    "            plt.imshow(img, cmap=colormap.get_cmap('gray'))\n",
    "            plt.savefig('{}{}.png'.format(PREVIEW_DIR, i))\n",
    "            plt.clf()\n",
    "        if data.type == 'gt':\n",
    "            spectral.imshow(classes=data.ground_truth.astype(int), colors=COLOR_MAP)\n",
    "            plt.savefig(PREVIEW_DIR + '_ground_truth.png')\n",
    "            plt.clf()\n",
    "        elif data.type == 'obj':\n",
    "            spectral.imshow(classes=data.objects.astype(int), colors=BINARY_MAP)\n",
    "            plt.savefig(PREVIEW_DIR + '_objects.png')\n",
    "            plt.clf()\n",
    "        \n",
    "\n",
    "for k in DS_CONF['dataset']:\n",
    "    generate_preview(SpectralDataset(k))"
   ]
  },
  {
   "cell_type": "code",
   "execution_count": null,
   "metadata": {},
   "outputs": [],
   "source": []
  }
 ],
 "metadata": {
  "kernelspec": {
   "display_name": "Python 3",
   "language": "python",
   "name": "python3"
  },
  "language_info": {
   "codemirror_mode": {
    "name": "ipython",
    "version": 3
   },
   "file_extension": ".py",
   "mimetype": "text/x-python",
   "name": "python",
   "nbconvert_exporter": "python",
   "pygments_lexer": "ipython3",
   "version": "3.7.3"
  }
 },
 "nbformat": 4,
 "nbformat_minor": 4
}
