{
 "cells": [
  {
   "cell_type": "code",
   "execution_count": 1,
   "metadata": {},
   "outputs": [],
   "source": [
    "import matplotlib.pyplot as plt\n",
    "import numpy as np\n",
    "from numpy.linalg import inv as mat_inv\n",
    "from dataset import SpectralDataset"
   ]
  },
  {
   "cell_type": "code",
   "execution_count": 9,
   "metadata": {},
   "outputs": [
    {
     "name": "stdout",
     "output_type": "stream",
     "text": [
      "Shape of spectral: (10000, 205)\n",
      "100.00%"
     ]
    }
   ],
   "source": [
    "class RXRunner:\n",
    "    def __init__(self, data, verbose=True):\n",
    "        si = data.image      # Spectral image\n",
    "        self.img_shape = si.shape[:-1]\n",
    "        self.objects = data.objects.reshape(-1)\n",
    "        self.si = si.reshape(-1, si.shape[2])\n",
    "        self.m = self.si.shape[0]\n",
    "        self.p = self.si.shape[1]\n",
    "        if verbose: \n",
    "            print(f'Shape of spectral: {self.si.shape}')\n",
    "        mu_b = self.background_mean\n",
    "        total_covar = np.zeros((self.p, self.p))\n",
    "        for x in self.si:\n",
    "            residual = x - mu_b\n",
    "            covar = residual * residual.reshape(-1, 1)\n",
    "            total_covar += covar\n",
    "        c_b = total_covar / self.m\n",
    "        delta = np.zeros(self.m)\n",
    "        \n",
    "        # Calc \\delta _RX\n",
    "        for i, r in enumerate(self.si):\n",
    "            residual = r - mu_b\n",
    "            delta[i] = np.dot(np.dot(residual, mat_inv(c_b)), residual)\n",
    "            if verbose and (i+1) % 100 == 0:\n",
    "                print(f'\\r{(i+1)/self.m*100:.2f}%', end='')\n",
    "        self.delta = delta\n",
    "        \n",
    "    @property\n",
    "    def background_mean(self):\n",
    "        return np.sum(self.si, axis=0) / self.m\n",
    "    \n",
    "    def show(self):\n",
    "        plt.imshow(self.delta.reshape(self.img_shape))\n",
    "        plt.show()\n",
    "    \n",
    "\n",
    "rx = RXRunner(SpectralDataset('airport1'))"
   ]
  },
  {
   "cell_type": "code",
   "execution_count": 11,
   "metadata": {},
   "outputs": [
    {
     "data": {
      "text/plain": [
       "[<matplotlib.lines.Line2D at 0x1878862b518>]"
      ]
     },
     "execution_count": 11,
     "metadata": {},
     "output_type": "execute_result"
    },
    {
     "data": {
      "image/png": "[encoded data removed]",
      "text/plain": [
       "<Figure size 432x288 with 1 Axes>"
      ]
     },
     "metadata": {
      "needs_background": "light"
     },
     "output_type": "display_data"
    }
   ],
   "source": [
    "from roc import roc_curve\n",
    "\n",
    "detected_delta = rx.delta.reshape(-1)\n",
    "xs, ys = roc_curve(detected_delta, rx.objects)\n",
    "plt.plot(xs, ys)"
   ]
  },
  {
   "cell_type": "code",
   "execution_count": null,
   "metadata": {},
   "outputs": [],
   "source": []
  }
 ],
 "metadata": {
  "kernelspec": {
   "display_name": "Python 3",
   "language": "python",
   "name": "python3"
  },
  "language_info": {
   "codemirror_mode": {
    "name": "ipython",
    "version": 3
   },
   "file_extension": ".py",
   "mimetype": "text/x-python",
   "name": "python",
   "nbconvert_exporter": "python",
   "pygments_lexer": "ipython3",
   "version": "3.7.3"
  }
 },
 "nbformat": 4,
 "nbformat_minor": 4
}
